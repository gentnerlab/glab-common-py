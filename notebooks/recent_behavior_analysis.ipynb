{
 "cells": [
  {
   "cell_type": "code",
   "execution_count": null,
   "metadata": {
    "collapsed": false
   },
   "outputs": [],
   "source": [
    "%pylab inline\n",
    "import glob\n",
    "import pandas as pd\n",
    "import os\n",
    "import datetime as dt\n",
    "import seaborn as sns\n",
    "\n",
    "from glab_common import utils\n",
    "data_path = '/mnt/cube/RawData/Zog/'\n",
    "\n",
    "subjects = (\n",
    "            'B1100',\n",
    "            'B1069'\n",
    "            )"
   ]
  },
  {
   "cell_type": "markdown",
   "metadata": {},
   "source": [
    "## plot performance over past two weeks in calendar"
   ]
  },
  {
   "cell_type": "code",
   "execution_count": null,
   "metadata": {
    "collapsed": false
   },
   "outputs": [],
   "source": [
    "behav_data = utils.load_data_pandas(subjects,data_path)\n",
    "\n",
    "for subj,data in behav_data.iteritems():\n",
    "    utils.plot_filtered_performance_calendar(subj,data,num_days=20)    "
   ]
  },
  {
   "cell_type": "markdown",
   "metadata": {},
   "source": [
    "## Plot percent correct by block with confidence bounds"
   ]
  },
  {
   "cell_type": "code",
   "execution_count": null,
   "metadata": {
    "collapsed": false
   },
   "outputs": [],
   "source": [
    "behav_data = utils.load_data_pandas(subjects,data_path)\n",
    "figsize(16.0, 16.0)\n",
    "\n",
    "n_birds = len(behav_data.keys())\n",
    "fig, ax = plt.subplots(nrows=n_birds,ncols=1)\n",
    "\n",
    "for s, subj in enumerate(subjects):\n",
    "    df = behav_data[subj]\n",
    "    data_to_analyze = df[(df.response<>'none')&(df.type_=='normal')].sort()\n",
    "    data_to_analyze = data_to_analyze[-10000:]\n",
    "    data_to_analyze = data_to_analyze.reset_index()\n",
    "    \n",
    "    block_size = 100\n",
    "    \n",
    "    blocks = data_to_analyze.index / block_size\n",
    "    blocked = data_to_analyze.groupby(blocks)\n",
    "    \n",
    "    sca(ax[s])\n",
    "    correct = blocked['correct'].agg({'correct': lambda x: np.mean(x.astype(float))})\n",
    "    correct.plot(ax=ax[s])\n",
    "    \n",
    "    ci = utils.binomial_ci(0.5*block_size,block_size)\n",
    "    axhspan(ci[0],ci[1],color='grey',alpha=0.5,axes=ax[s])\n",
    "    axhline(0.5,linestyle=':',axes=ax[s],color='grey') \n",
    "    \n",
    "    ylim([0,1.0])\n",
    "    title(subj)\n",
    "    ylabel('proportion')\n",
    "    \n",
    "    bias = blocked['response'].agg({'left response': lambda x: np.mean((x=='L').astype(float))})\n",
    "    bias.plot(ax=ax[s],color='green')\n",
    "    legend(loc=3)"
   ]
  },
  {
   "cell_type": "markdown",
   "metadata": {},
   "source": [
    "# Plot number of trials and feeds for past week"
   ]
  },
  {
   "cell_type": "code",
   "execution_count": null,
   "metadata": {
    "collapsed": false
   },
   "outputs": [],
   "source": [
    "mplib_colors = ['b','g','r', 'c', 'm', 'y']\n",
    "figsize(16.0, 4.0)\n",
    "\n",
    "for subj,df in behav_data.items():\n",
    "    data_to_analyze = df[df.index>(dt.datetime.today()-dt.timedelta(weeks=1))]\n",
    "    if not data_to_analyze.empty:\n",
    "        blocked = data_to_analyze.groupby(lambda x: (x.date()-dt.datetime.now().date()).days)\n",
    "        \n",
    "        days = np.sort(blocked.groups.keys())\n",
    "        trials_per_day = blocked['response'].count().values\n",
    "        \n",
    "        line_color = mplib_colors.pop(0)\n",
    "        \n",
    "        line = plot(days, trials_per_day, label=subj + ' trials per day', c=line_color)\n",
    "        \n",
    "        if len(days) == 1:\n",
    "            plot(0, trials_per_day[-1], 'o', c=line_color)\n",
    "        \n",
    "        aggregated = blocked.agg({'correct': lambda x: np.mean(x.astype(float)),\n",
    "                                  'response': lambda x: np.mean((x=='L').astype(float)),\n",
    "                                  'type_': lambda x: np.sum((x=='normal').astype(float)),\n",
    "                                  'reward': lambda x: np.sum((x==True).astype(float)),\n",
    "                                    })\n",
    "        \n",
    "        aggregated['reward'].plot(ax=gca(), label=subj + ' feeds per day', ls='--', c=line_color)\n",
    "        if len(days) == 1:\n",
    "            plot(0, aggregated['reward'][0], 'o', c=line_color)\n",
    "\n",
    "title('trials and feeds per day')\n",
    "h = legend(loc='upper left')\n",
    "\n"
   ]
  }
 ],
 "metadata": {
  "kernelspec": {
   "display_name": "Python 2",
   "language": "python",
   "name": "python2"
  },
  "language_info": {
   "codemirror_mode": {
    "name": "ipython",
    "version": 2
   },
   "file_extension": ".py",
   "mimetype": "text/x-python",
   "name": "python",
   "nbconvert_exporter": "python",
   "pygments_lexer": "ipython2",
   "version": "2.7.11"
  }
 },
 "nbformat": 4,
 "nbformat_minor": 0
}
