{
 "cells": [
  {
   "cell_type": "code",
   "execution_count": null,
   "metadata": {
    "collapsed": false
   },
   "outputs": [],
   "source": [
    "%pylab inline\n",
    "import glob\n",
    "import pandas as pd\n",
    "import os\n",
    "import datetime as dt\n",
    "import seaborn as sns\n",
    "\n",
    "from glab_common import utils\n",
    "data_path = '/mnt/cube/RawData/Zog/'\n",
    "\n",
    "subjects = (\n",
    "            'B1100',\n",
    "            'B1069'\n",
    "            )"
   ]
  },
  {
   "cell_type": "markdown",
   "metadata": {},
   "source": [
    "## plot performance over past two weeks in calendar"
   ]
  },
  {
   "cell_type": "code",
   "execution_count": null,
   "metadata": {
    "collapsed": false
   },
   "outputs": [],
   "source": [
    "def plot_performance_calendar(subj,df,num_days=7):\n",
    "    today = dt.datetime.now()\n",
    "    data_to_analyze = df[(df.response<>'none')&(df.type_=='normal')] #still a dataframe (a filtered one)\n",
    "    blocked = data_to_analyze.groupby([lambda x: (today.date()-x.date()).days, lambda x: x.hour])\n",
    "        #blocked is a grouped data structure\n",
    "    \n",
    "    aggregated = blocked.agg({'correct': lambda x: np.mean(x.astype(float)),\n",
    "                              'reward': lambda x: np.sum(x.astype(float)),\n",
    "                              'response': lambda x: np.mean((x=='L').astype(float)),\n",
    "                              'type_': lambda x: np.sum((x=='normal').astype(float)),\n",
    "                                })\n",
    "    days_past = np.arange(num_days)\n",
    "    hour_of_day = np.arange(24)\n",
    "    \n",
    "    skip = num_days / 7\n",
    "    if skip < 1: skip = 1\n",
    "        \n",
    "    dd = []\n",
    "    day_index = [d for d in days_past if (d % skip) > 0]\n",
    "    for d in days_past[::skip]:\n",
    "        datetime = today-dt.timedelta(days=num_days-1-d)\n",
    "        if (len(dd) < 1) or (datetime.day<(skip+1)):\n",
    "            dd.append(str(datetime.day)+'\\n'+str(datetime.strftime('%b')))\n",
    "        else:\n",
    "            dd.append(str(datetime.day))\n",
    "    \n",
    "    hh = ['6pm','noon','6am']\n",
    "            \n",
    "    f, ax = plt.subplots(1,3,sharex=True,sharey=True,figsize=(16.0, 4.0))\n",
    "    # first, display the trials\n",
    "    cmap = plt.get_cmap('Oranges')\n",
    "    num_trials = np.zeros((len(days_past),len(hour_of_day)),np.float_)\n",
    "    for hour in hour_of_day:\n",
    "        for day in days_past:\n",
    "            try:\n",
    "                num_trials[day,hour] = aggregated['type_'][day,hour]\n",
    "            except KeyError:\n",
    "                num_trials[day,hour] = 0.0\n",
    "    ax[0].pcolor(np.rot90(np.fliplr(num_trials),k=3),cmap=cmap,vmin=0, vmax=150)\n",
    "    ax[0].axis('tight')\n",
    "    \n",
    "    ax[0].set_title(subj+': Trials per hour')\n",
    "    ax[0].set_xticks(days_past[::skip]+0.5)\n",
    "    ax[0].set_xticklabels(dd)\n",
    "    ax[0].set_yticks([6,12,18])\n",
    "    ax[0].set_yticklabels(hh)\n",
    "   \n",
    "        \n",
    "    cmap = plt.get_cmap('RdYlBu')\n",
    "    cmap.set_bad(color='Grey')\n",
    "    \n",
    "    correct = np.zeros((len(days_past),len(hour_of_day)),np.float_)\n",
    "    for hour in hour_of_day:\n",
    "        for day in days_past:\n",
    "            try:\n",
    "                correct[day,hour] = aggregated['correct'][day,hour]\n",
    "            except KeyError:\n",
    "                correct[day,hour] = np.nan\n",
    "    correct = np.ma.masked_invalid(correct)\n",
    "    ax[1].pcolormesh(np.rot90(np.fliplr(correct),k=3),cmap=cmap,vmin=0, vmax=1)\n",
    "    ax[1].set_title('Accuracy')\n",
    "    \n",
    "    feeds = np.zeros((len(days_past),len(hour_of_day)),np.float_)\n",
    "    for hour in hour_of_day:\n",
    "        for day in days_past:\n",
    "            try:\n",
    "                feeds[day,hour] = aggregated['reward'][day,hour]\n",
    "            except KeyError:\n",
    "                feeds[day,hour] = 0.0\n",
    "    feeds = np.ma.masked_invalid(feeds)\n",
    "    ax[2].pcolormesh(np.rot90(np.fliplr(feeds),k=3),cmap=plt.get_cmap('BuGn'),vmin=0, vmax=25)\n",
    "    ax[2].set_title('Feeds')\n",
    "    \n",
    "    return f, ax\n",
    "\n",
    "#do the plot\n",
    "behav_data = utils.load_data_pandas(subjects,data_path)\n",
    "\n",
    "for subj,data in behav_data.iteritems():\n",
    "    plot_performance_calendar(subj,data,num_days=20)    "
   ]
  },
  {
   "cell_type": "markdown",
   "metadata": {},
   "source": [
    "## Plot percent correct by block with confidence bounds"
   ]
  },
  {
   "cell_type": "code",
   "execution_count": null,
   "metadata": {
    "collapsed": false
   },
   "outputs": [],
   "source": [
    "behav_data = utils.load_data_pandas(subjects,data_path)\n",
    "figsize(16.0, 16.0)\n",
    "\n",
    "n_birds = len(behav_data.keys())\n",
    "fig, ax = plt.subplots(nrows=n_birds,ncols=1)\n",
    "\n",
    "for s, subj in enumerate(subjects):\n",
    "    df = behav_data[subj]\n",
    "    data_to_analyze = df[(df.response<>'none')&(df.type_=='normal')].sort()\n",
    "    data_to_analyze = data_to_analyze[-10000:]\n",
    "    data_to_analyze = data_to_analyze.reset_index()\n",
    "    \n",
    "    block_size = 100\n",
    "    \n",
    "    blocks = data_to_analyze.index / block_size\n",
    "    blocked = data_to_analyze.groupby(blocks)\n",
    "    \n",
    "    sca(ax[s])\n",
    "    correct = blocked['correct'].agg({'correct': lambda x: np.mean(x.astype(float))})\n",
    "    correct.plot(ax=ax[s])\n",
    "    \n",
    "    ci = utils.binomial_ci(0.5*block_size,block_size)\n",
    "    axhspan(ci[0],ci[1],color='grey',alpha=0.5,axes=ax[s])\n",
    "    axhline(0.5,linestyle=':',axes=ax[s],color='grey') \n",
    "    \n",
    "    ylim([0,1.0])\n",
    "    title(subj)\n",
    "    ylabel('proportion')\n",
    "    \n",
    "    bias = blocked['response'].agg({'left response': lambda x: np.mean((x=='L').astype(float))})\n",
    "    bias.plot(ax=ax[s],color='green')\n",
    "    legend(loc=3)"
   ]
  },
  {
   "cell_type": "markdown",
   "metadata": {},
   "source": [
    "# Plot number of trials and feeds for past week"
   ]
  },
  {
   "cell_type": "code",
   "execution_count": null,
   "metadata": {
    "collapsed": false
   },
   "outputs": [],
   "source": [
    "mplib_colors = ['b','g','r', 'c', 'm', 'y']\n",
    "figsize(16.0, 4.0)\n",
    "\n",
    "for subj,df in behav_data.items():\n",
    "    data_to_analyze = df[df.index>(dt.datetime.today()-dt.timedelta(weeks=1))]\n",
    "    if not data_to_analyze.empty:\n",
    "        blocked = data_to_analyze.groupby(lambda x: (x.date()-dt.datetime.now().date()).days)\n",
    "        \n",
    "        days = np.sort(blocked.groups.keys())\n",
    "        trials_per_day = blocked['response'].count().values\n",
    "        \n",
    "        line_color = mplib_colors.pop(0)\n",
    "        \n",
    "        line = plot(days, trials_per_day, label=subj + ' trials per day', c=line_color)\n",
    "        \n",
    "        if len(days) == 1:\n",
    "            plot(0, trials_per_day[-1], 'o', c=line_color)\n",
    "        \n",
    "        aggregated = blocked.agg({'correct': lambda x: np.mean(x.astype(float)),\n",
    "                                  'response': lambda x: np.mean((x=='L').astype(float)),\n",
    "                                  'type_': lambda x: np.sum((x=='normal').astype(float)),\n",
    "                                  'reward': lambda x: np.sum((x==True).astype(float)),\n",
    "                                    })\n",
    "        \n",
    "        aggregated['reward'].plot(ax=gca(), label=subj + ' feeds per day', ls='--', c=line_color)\n",
    "        if len(days) == 1:\n",
    "            plot(0, aggregated['reward'][0], 'o', c=line_color)\n",
    "\n",
    "title('trials and feeds per day')\n",
    "h = legend(loc='upper left')\n",
    "\n"
   ]
  }
 ],
 "metadata": {
  "kernelspec": {
   "display_name": "Python 2",
   "language": "python",
   "name": "python2"
  },
  "language_info": {
   "codemirror_mode": {
    "name": "ipython",
    "version": 2
   },
   "file_extension": ".py",
   "mimetype": "text/x-python",
   "name": "python",
   "nbconvert_exporter": "python",
   "pygments_lexer": "ipython2",
   "version": "2.7.11"
  }
 },
 "nbformat": 4,
 "nbformat_minor": 0
}
