{
 "cells": [
  {
   "cell_type": "markdown",
   "metadata": {},
   "source": [
    "### Make Louder"
   ]
  },
  {
   "cell_type": "code",
   "execution_count": 23,
   "metadata": {
    "collapsed": false
   },
   "outputs": [],
   "source": [
    "from os import listdir\n",
    "from os.path import isfile, join\n",
    "from pydub import AudioSegment\n",
    "\n",
    "mypath = \"/Users/timsainb/Documents/GentnerLab/SimpleSongs/Resampled/\"\n",
    "onlyfiles = [f for f in listdir(mypath) if isfile(join(mypath, f))]"
   ]
  },
  {
   "cell_type": "code",
   "execution_count": 24,
   "metadata": {
    "collapsed": false
   },
   "outputs": [],
   "source": [
    "for i in range(len(onlyfiles)):\n",
    "    song = AudioSegment.from_wav(mypath+onlyfiles[i])\n",
    "    # reduce volume by 10 dB\n",
    "    song_louder = song + 20\n",
    "    # save the output\n",
    "    if not os.path.exists(mypath+\"Louder/\"):\n",
    "        os.makedirs(mypath+\"Louder/\")\n",
    "    song_louder.export(mypath+\"Louder/\"+onlyfiles[i], \"wav\")"
   ]
  },
  {
   "cell_type": "markdown",
   "metadata": {
    "collapsed": false
   },
   "source": [
    "### Resample"
   ]
  },
  {
   "cell_type": "code",
   "execution_count": 22,
   "metadata": {
    "collapsed": false
   },
   "outputs": [],
   "source": [
    "import os\n",
    "\n",
    "mypath = \"/Users/timsainb/Documents/GentnerLab/SimpleSongs/\"\n",
    "onlyfiles = [f for f in listdir(mypath) if isfile(join(mypath, f))]\n",
    "\n",
    "for i in range(len(onlyfiles)):\n",
    "    if not os.path.exists(mypath+\"Resampled/\"):\n",
    "        os.makedirs(mypath+\"Resampled/\")\n",
    "    os.system(''.join(('sox -r 48000 -e float -e signed -c 2 ', mypath+onlyfiles[i],' ',mypath,'Resampled/',onlyfiles[i])))"
   ]
  },
  {
   "cell_type": "code",
   "execution_count": null,
   "metadata": {
    "collapsed": false
   },
   "outputs": [],
   "source": []
  },
  {
   "cell_type": "code",
   "execution_count": null,
   "metadata": {
    "collapsed": true
   },
   "outputs": [],
   "source": []
  }
 ],
 "metadata": {
  "kernelspec": {
   "display_name": "Python 2",
   "language": "python",
   "name": "python2"
  },
  "language_info": {
   "codemirror_mode": {
    "name": "ipython",
    "version": 2
   },
   "file_extension": ".py",
   "mimetype": "text/x-python",
   "name": "python",
   "nbconvert_exporter": "python",
   "pygments_lexer": "ipython2",
   "version": "2.7.11"
  }
 },
 "nbformat": 4,
 "nbformat_minor": 0
}
